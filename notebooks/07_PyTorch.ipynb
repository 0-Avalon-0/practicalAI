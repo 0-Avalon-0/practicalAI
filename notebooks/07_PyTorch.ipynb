{
  "nbformat": 4,
  "nbformat_minor": 0,
  "metadata": {
    "colab": {
      "name": "07_PyTorch",
      "version": "0.3.2",
      "provenance": [],
      "collapsed_sections": [],
      "toc_visible": true
    },
    "kernelspec": {
      "name": "python3",
      "display_name": "Python 3"
    },
    "accelerator": "GPU"
  },
  "cells": [
    {
      "metadata": {
        "id": "bOChJSNXtC9g",
        "colab_type": "text"
      },
      "cell_type": "markdown",
      "source": [
        "# PyTorch"
      ]
    },
    {
      "metadata": {
        "id": "OLIxEDq6VhvZ",
        "colab_type": "text"
      },
      "cell_type": "markdown",
      "source": [
        "<img src=\"https://raw.githubusercontent.com/GokuMohandas/practicalAI/master/images/logo.png\" width=150>\n",
        "\n",
        "In this lesson we'll learn about PyTorch which is a machine learning library used to build dynamic neural networks. We'll learn about the basics, like creating and using Tensors, in this lesson but we'll be making models with it in the next lesson.\n",
        "\n",
        "<img src=\"https://raw.githubusercontent.com/GokuMohandas/practicalAI/master/images/pytorch.png\" width=300>"
      ]
    },
    {
      "metadata": {
        "id": "VoMq0eFRvugb",
        "colab_type": "text"
      },
      "cell_type": "markdown",
      "source": [
        "# Tensor basics"
      ]
    },
    {
      "metadata": {
        "id": "0-dXQiLlTIgz",
        "colab_type": "code",
        "colab": {}
      },
      "cell_type": "code",
      "source": [
        "# Load PyTorch library\n",
        "!pip3 install torch torchvision"
      ],
      "execution_count": 0,
      "outputs": []
    },
    {
      "metadata": {
        "id": "rX7Vs1JxL9wX",
        "colab_type": "code",
        "colab": {}
      },
      "cell_type": "code",
      "source": [
        "import numpy as np\n",
        "import torch"
      ],
      "execution_count": 0,
      "outputs": []
    },
    {
      "metadata": {
        "id": "Nv0xryLkKujV",
        "colab_type": "code",
        "outputId": "42167911-cce5-4c67-c572-5c0cc45ec7e0",
        "colab": {
          "base_uri": "https://localhost:8080/",
          "height": 119
        }
      },
      "cell_type": "code",
      "source": [
        "# Creating a zero tensor\n",
        "x = torch.Tensor(3, 4)\n",
        "print(\"Type: {}\".format(x.type()))\n",
        "print(\"Size: {}\".format(x.shape))\n",
        "print(\"Values: \\n{}\".format(x))"
      ],
      "execution_count": 3,
      "outputs": [
        {
          "output_type": "stream",
          "text": [
            "Type: torch.FloatTensor\n",
            "Size: torch.Size([3, 4])\n",
            "Values: \n",
            "tensor([[2.3103e-36, 0.0000e+00, 2.3822e-44, 0.0000e+00],\n",
            "        [       nan, 0.0000e+00, 1.3733e-14, 1.8888e+31],\n",
            "        [4.9656e+28, 4.5439e+30, 5.7453e-44, 0.0000e+00]])\n"
          ],
          "name": "stdout"
        }
      ]
    },
    {
      "metadata": {
        "id": "vnyzY4PHL7c5",
        "colab_type": "code",
        "outputId": "419b9aae-e49d-4964-a5b8-285dbe0dc8a8",
        "colab": {
          "base_uri": "https://localhost:8080/",
          "height": 51
        }
      },
      "cell_type": "code",
      "source": [
        "# Creating a random tensor\n",
        "x = torch.randn(2, 3) # normal distribution (rand(2,3) -> uniform distribution)\n",
        "print (x)"
      ],
      "execution_count": 4,
      "outputs": [
        {
          "output_type": "stream",
          "text": [
            "tensor([[ 1.2265, -0.0153, -0.0155],\n",
            "        [ 1.3890,  0.0566, -0.2836]])\n"
          ],
          "name": "stdout"
        }
      ]
    },
    {
      "metadata": {
        "id": "DVwGNeKxMXI8",
        "colab_type": "code",
        "outputId": "1aedbab5-2e88-4c18-b9f8-7bcc3aead42a",
        "colab": {
          "base_uri": "https://localhost:8080/",
          "height": 85
        }
      },
      "cell_type": "code",
      "source": [
        "# Zero and Ones tensor\n",
        "x = torch.zeros(2, 3)\n",
        "print (x)\n",
        "x = torch.ones(2, 3)\n",
        "print (x)"
      ],
      "execution_count": 5,
      "outputs": [
        {
          "output_type": "stream",
          "text": [
            "tensor([[0., 0., 0.],\n",
            "        [0., 0., 0.]])\n",
            "tensor([[1., 1., 1.],\n",
            "        [1., 1., 1.]])\n"
          ],
          "name": "stdout"
        }
      ]
    },
    {
      "metadata": {
        "id": "BPjHnDmCMXLm",
        "colab_type": "code",
        "outputId": "9cda3872-148a-4c58-9c9a-354fe27f991b",
        "colab": {
          "base_uri": "https://localhost:8080/",
          "height": 85
        }
      },
      "cell_type": "code",
      "source": [
        "# List → Tensor\n",
        "x = torch.Tensor([[1, 2, 3],[4, 5, 6]])\n",
        "print(\"Size: {}\".format(x.shape)) \n",
        "print(\"Values: \\n{}\".format(x))"
      ],
      "execution_count": 6,
      "outputs": [
        {
          "output_type": "stream",
          "text": [
            "Size: torch.Size([2, 3])\n",
            "Values: \n",
            "tensor([[1., 2., 3.],\n",
            "        [4., 5., 6.]])\n"
          ],
          "name": "stdout"
        }
      ]
    },
    {
      "metadata": {
        "id": "mG4-CHkgMXOE",
        "colab_type": "code",
        "outputId": "4e21323d-2f51-4924-eecf-c86b626b80d5",
        "colab": {
          "base_uri": "https://localhost:8080/",
          "height": 85
        }
      },
      "cell_type": "code",
      "source": [
        "# NumPy array → Tensor\n",
        "x = torch.from_numpy(np.random.rand(2, 3))\n",
        "print(\"Size: {}\".format(x.shape)) \n",
        "print(\"Values: \\n{}\".format(x))"
      ],
      "execution_count": 7,
      "outputs": [
        {
          "output_type": "stream",
          "text": [
            "Size: torch.Size([2, 3])\n",
            "Values: \n",
            "tensor([[0.6203, 0.9299, 0.6594],\n",
            "        [0.3947, 0.3110, 0.0114]], dtype=torch.float64)\n"
          ],
          "name": "stdout"
        }
      ]
    },
    {
      "metadata": {
        "id": "L8X2-5cqMXRA",
        "colab_type": "code",
        "outputId": "e6d58239-fd2e-4139-e734-815b8a2d3341",
        "colab": {
          "base_uri": "https://localhost:8080/",
          "height": 51
        }
      },
      "cell_type": "code",
      "source": [
        "# Changing tensor type\n",
        "x = torch.Tensor(3, 4)\n",
        "print(\"Type: {}\".format(x.type()))\n",
        "x = x.long()\n",
        "print(\"Type: {}\".format(x.type()))"
      ],
      "execution_count": 8,
      "outputs": [
        {
          "output_type": "stream",
          "text": [
            "Type: torch.FloatTensor\n",
            "Type: torch.LongTensor\n"
          ],
          "name": "stdout"
        }
      ]
    },
    {
      "metadata": {
        "id": "S2BRPaMvPbe3",
        "colab_type": "text"
      },
      "cell_type": "markdown",
      "source": [
        "# Tensor operations"
      ]
    },
    {
      "metadata": {
        "id": "Xrn8I76TMXT1",
        "colab_type": "code",
        "outputId": "895029b0-813b-4369-b02b-6f4dc8c1a809",
        "colab": {
          "base_uri": "https://localhost:8080/",
          "height": 85
        }
      },
      "cell_type": "code",
      "source": [
        "# Addition\n",
        "x = torch.randn(2, 3)\n",
        "y = torch.randn(2, 3)\n",
        "z = x + y\n",
        "print(\"Size: {}\".format(z.shape)) \n",
        "print(\"Values: \\n{}\".format(z))"
      ],
      "execution_count": 9,
      "outputs": [
        {
          "output_type": "stream",
          "text": [
            "Size: torch.Size([2, 3])\n",
            "Values: \n",
            "tensor([[-0.0828,  0.1283, -0.5804],\n",
            "        [ 1.8968,  1.0014,  1.3219]])\n"
          ],
          "name": "stdout"
        }
      ]
    },
    {
      "metadata": {
        "id": "157fC9WsMXWf",
        "colab_type": "code",
        "outputId": "fcd6fa46-ed87-40cf-e0f1-dbf9fd7fad71",
        "colab": {
          "base_uri": "https://localhost:8080/",
          "height": 85
        }
      },
      "cell_type": "code",
      "source": [
        "# Dot product\n",
        "x = torch.randn(2, 3)\n",
        "y = torch.randn(3, 2)\n",
        "z = torch.mm(x, y)\n",
        "print(\"Size: {}\".format(z.shape)) \n",
        "print(\"Values: \\n{}\".format(z))"
      ],
      "execution_count": 10,
      "outputs": [
        {
          "output_type": "stream",
          "text": [
            "Size: torch.Size([2, 2])\n",
            "Values: \n",
            "tensor([[ 5.2610,  0.9090],\n",
            "        [-2.1035,  1.3876]])\n"
          ],
          "name": "stdout"
        }
      ]
    },
    {
      "metadata": {
        "id": "G6316lAmMXZG",
        "colab_type": "code",
        "outputId": "607da569-705f-4819-a5b1-a79a90b9948f",
        "colab": {
          "base_uri": "https://localhost:8080/",
          "height": 170
        }
      },
      "cell_type": "code",
      "source": [
        "# Transpose\n",
        "x = torch.randn(2, 3)\n",
        "print(\"Size: {}\".format(x.shape)) \n",
        "print(\"Values: \\n{}\".format(x))\n",
        "y = torch.t(x)\n",
        "print(\"Size: {}\".format(y.shape)) \n",
        "print(\"Values: \\n{}\".format(y))"
      ],
      "execution_count": 11,
      "outputs": [
        {
          "output_type": "stream",
          "text": [
            "Size: torch.Size([2, 3])\n",
            "Values: \n",
            "tensor([[-1.8572, -0.7874,  0.7118],\n",
            "        [ 1.5595, -1.1292,  0.3104]])\n",
            "Size: torch.Size([3, 2])\n",
            "Values: \n",
            "tensor([[-1.8572,  1.5595],\n",
            "        [-0.7874, -1.1292],\n",
            "        [ 0.7118,  0.3104]])\n"
          ],
          "name": "stdout"
        }
      ]
    },
    {
      "metadata": {
        "id": "FCgDCOCjMXcF",
        "colab_type": "code",
        "outputId": "5e21667c-2a40-4fc2-fa2e-dd9f1431afd3",
        "colab": {
          "base_uri": "https://localhost:8080/",
          "height": 102
        }
      },
      "cell_type": "code",
      "source": [
        "# Reshape\n",
        "z = x.view(3, 2)\n",
        "print(\"Size: {}\".format(z.shape)) \n",
        "print(\"Values: \\n{}\".format(z))"
      ],
      "execution_count": 12,
      "outputs": [
        {
          "output_type": "stream",
          "text": [
            "Size: torch.Size([3, 2])\n",
            "Values: \n",
            "tensor([[-1.8572, -0.7874],\n",
            "        [ 0.7118,  1.5595],\n",
            "        [-1.1292,  0.3104]])\n"
          ],
          "name": "stdout"
        }
      ]
    },
    {
      "metadata": {
        "id": "T3-6nGgvECH9",
        "colab_type": "code",
        "outputId": "5249a960-0308-4237-fe18-adaca3468b6f",
        "colab": {
          "base_uri": "https://localhost:8080/",
          "height": 561
        }
      },
      "cell_type": "code",
      "source": [
        "# Dangers of reshaping (unintended consequences)\n",
        "x = torch.tensor([\n",
        "    [[1,1,1,1], [2,2,2,2], [3,3,3,3]],\n",
        "    [[10,10,10,10], [20,20,20,20], [30,30,30,30]]\n",
        "])\n",
        "print(\"Size: {}\".format(x.shape)) \n",
        "print(\"Values: \\n{}\\n\".format(x))\n",
        "a = x.view(x.size(1), -1)\n",
        "print(\"Size: {}\".format(a.shape)) \n",
        "print(\"Values: \\n{}\\n\".format(a))\n",
        "b = x.transpose(0,1).contiguous()\n",
        "print(\"Size: {}\".format(b.shape)) \n",
        "print(\"Values: \\n{}\\n\".format(b))\n",
        "c = b.view(b.size(0), -1)\n",
        "print(\"Size: {}\".format(c.shape)) \n",
        "print(\"Values: \\n{}\".format(c))"
      ],
      "execution_count": 13,
      "outputs": [
        {
          "output_type": "stream",
          "text": [
            "Size: torch.Size([2, 3, 4])\n",
            "Values: \n",
            "tensor([[[ 1,  1,  1,  1],\n",
            "         [ 2,  2,  2,  2],\n",
            "         [ 3,  3,  3,  3]],\n",
            "\n",
            "        [[10, 10, 10, 10],\n",
            "         [20, 20, 20, 20],\n",
            "         [30, 30, 30, 30]]])\n",
            "\n",
            "Size: torch.Size([3, 8])\n",
            "Values: \n",
            "tensor([[ 1,  1,  1,  1,  2,  2,  2,  2],\n",
            "        [ 3,  3,  3,  3, 10, 10, 10, 10],\n",
            "        [20, 20, 20, 20, 30, 30, 30, 30]])\n",
            "\n",
            "Size: torch.Size([3, 2, 4])\n",
            "Values: \n",
            "tensor([[[ 1,  1,  1,  1],\n",
            "         [10, 10, 10, 10]],\n",
            "\n",
            "        [[ 2,  2,  2,  2],\n",
            "         [20, 20, 20, 20]],\n",
            "\n",
            "        [[ 3,  3,  3,  3],\n",
            "         [30, 30, 30, 30]]])\n",
            "\n",
            "Size: torch.Size([3, 8])\n",
            "Values: \n",
            "tensor([[ 1,  1,  1,  1, 10, 10, 10, 10],\n",
            "        [ 2,  2,  2,  2, 20, 20, 20, 20],\n",
            "        [ 3,  3,  3,  3, 30, 30, 30, 30]])\n"
          ],
          "name": "stdout"
        }
      ]
    },
    {
      "metadata": {
        "id": "hRtG5LShMXew",
        "colab_type": "code",
        "outputId": "20ea4f27-4bba-43f2-da03-0c3504187f6a",
        "colab": {
          "base_uri": "https://localhost:8080/",
          "height": 136
        }
      },
      "cell_type": "code",
      "source": [
        "# Dimensional operations\n",
        "x = torch.randn(2, 3)\n",
        "print(\"Values: \\n{}\".format(x))\n",
        "y = torch.sum(x, dim=0) # add each row's value for every column\n",
        "print(\"Values: \\n{}\".format(y))\n",
        "z = torch.sum(x, dim=1) # add each columns's value for every row\n",
        "print(\"Values: \\n{}\".format(z))"
      ],
      "execution_count": 14,
      "outputs": [
        {
          "output_type": "stream",
          "text": [
            "Values: \n",
            "tensor([[ 0.4725, -0.9204, -0.2729],\n",
            "        [-0.0576, -0.2600, -1.0430]])\n",
            "Values: \n",
            "tensor([ 0.4149, -1.1804, -1.3159])\n",
            "Values: \n",
            "tensor([-0.7208, -1.3606])\n"
          ],
          "name": "stdout"
        }
      ]
    },
    {
      "metadata": {
        "id": "zI0ZV45PrYmw",
        "colab_type": "text"
      },
      "cell_type": "markdown",
      "source": [
        "# Indexing, Splicing and Joining"
      ]
    },
    {
      "metadata": {
        "id": "iM3UFrs0MXhL",
        "colab_type": "code",
        "outputId": "19ac9674-95f6-4d96-e932-3b5e489ea136",
        "colab": {
          "base_uri": "https://localhost:8080/",
          "height": 153
        }
      },
      "cell_type": "code",
      "source": [
        "x = torch.randn(3, 4)\n",
        "print(\"x: \\n{}\".format(x))\n",
        "print (\"x[:1]: \\n{}\".format(x[:1]))\n",
        "print (\"x[:1, 1:3]: \\n{}\".format(x[:1, 1:3]))"
      ],
      "execution_count": 15,
      "outputs": [
        {
          "output_type": "stream",
          "text": [
            "x: \n",
            "tensor([[-0.1768, -1.1185,  0.2135, -0.8630],\n",
            "        [ 0.6402, -1.3306, -0.8664,  1.7260],\n",
            "        [-1.2116,  1.2118, -0.5313, -0.6002]])\n",
            "x[:1]: \n",
            "tensor([[-0.1768, -1.1185,  0.2135, -0.8630]])\n",
            "x[:1, 1:3]: \n",
            "tensor([[-1.1185,  0.2135]])\n"
          ],
          "name": "stdout"
        }
      ]
    },
    {
      "metadata": {
        "id": "_tbpwGxcMXj0",
        "colab_type": "code",
        "outputId": "67afae91-b34d-4eea-ed18-23e297750fba",
        "colab": {
          "base_uri": "https://localhost:8080/",
          "height": 153
        }
      },
      "cell_type": "code",
      "source": [
        "# Select with dimensional indicies\n",
        "x = torch.randn(2, 3)\n",
        "print(\"Values: \\n{}\".format(x))\n",
        "col_indices = torch.LongTensor([0, 2])\n",
        "chosen = torch.index_select(x, dim=1, index=col_indices) # values from column 0 & 2\n",
        "print(\"Values: \\n{}\".format(chosen)) \n",
        "row_indices = torch.LongTensor([0, 1])\n",
        "chosen = x[row_indices, col_indices] # values from (0, 0) & (2, 1)\n",
        "print(\"Values: \\n{}\".format(chosen)) "
      ],
      "execution_count": 16,
      "outputs": [
        {
          "output_type": "stream",
          "text": [
            "Values: \n",
            "tensor([[-1.0646, -0.2697,  1.8768],\n",
            "        [-2.9919, -0.4713,  0.6864]])\n",
            "Values: \n",
            "tensor([[-1.0646,  1.8768],\n",
            "        [-2.9919,  0.6864]])\n",
            "Values: \n",
            "tensor([-1.0646,  0.6864])\n"
          ],
          "name": "stdout"
        }
      ]
    },
    {
      "metadata": {
        "id": "tMeqSQtuMXmH",
        "colab_type": "code",
        "outputId": "b5a8de7b-af43-41d5-9b76-6a58424d585c",
        "colab": {
          "base_uri": "https://localhost:8080/",
          "height": 153
        }
      },
      "cell_type": "code",
      "source": [
        "# Concatenation\n",
        "x = torch.randn(2, 3)\n",
        "print(\"Values: \\n{}\".format(x))\n",
        "y = torch.cat([x, x], dim=0) # stack by rows (dim=1 to stack by columns)\n",
        "print(\"Values: \\n{}\".format(y))"
      ],
      "execution_count": 17,
      "outputs": [
        {
          "output_type": "stream",
          "text": [
            "Values: \n",
            "tensor([[ 1.3400,  1.0970, -2.7402],\n",
            "        [ 0.6606, -0.9788,  3.1169]])\n",
            "Values: \n",
            "tensor([[ 1.3400,  1.0970, -2.7402],\n",
            "        [ 0.6606, -0.9788,  3.1169],\n",
            "        [ 1.3400,  1.0970, -2.7402],\n",
            "        [ 0.6606, -0.9788,  3.1169]])\n"
          ],
          "name": "stdout"
        }
      ]
    },
    {
      "metadata": {
        "id": "JqiDuIC-ByvO",
        "colab_type": "text"
      },
      "cell_type": "markdown",
      "source": [
        "# Gradients"
      ]
    },
    {
      "metadata": {
        "id": "qxpGB7-VL7fs",
        "colab_type": "code",
        "outputId": "bf612c65-0855-4faf-96cf-9b1df473772d",
        "colab": {
          "base_uri": "https://localhost:8080/",
          "height": 153
        }
      },
      "cell_type": "code",
      "source": [
        "# Tensors with gradient bookkeeping\n",
        "x = torch.rand(3, 4, requires_grad=True)\n",
        "y = 3*x + 2\n",
        "z = y.mean()\n",
        "z.backward() # z has to be scalar\n",
        "print(\"Values: \\n{}\".format(x))\n",
        "print(\"x.grad: \\n\", x.grad)"
      ],
      "execution_count": 18,
      "outputs": [
        {
          "output_type": "stream",
          "text": [
            "Values: \n",
            "tensor([[0.1477, 0.3433, 0.9869, 0.7408],\n",
            "        [0.4767, 0.6279, 0.6258, 0.6485],\n",
            "        [0.7614, 0.1697, 0.2689, 0.8507]], requires_grad=True)\n",
            "x.grad: \n",
            " tensor([[0.2500, 0.2500, 0.2500, 0.2500],\n",
            "        [0.2500, 0.2500, 0.2500, 0.2500],\n",
            "        [0.2500, 0.2500, 0.2500, 0.2500]])\n"
          ],
          "name": "stdout"
        }
      ]
    },
    {
      "metadata": {
        "id": "uf7htaAMDcRV",
        "colab_type": "text"
      },
      "cell_type": "markdown",
      "source": [
        "* $ x = 3x + 2 $\n",
        "* $ x = \\sum{y}/N $\n",
        "* $ \\frac{\\partial(z)}{\\partial(x)} = \\frac{\\partial(z)}{\\partial(y)} \\frac{\\partial(z)}{\\partial(x)} = \\frac{1}{N} * 3 = \\frac{1}{12} * 3 = 0.25 $"
      ]
    },
    {
      "metadata": {
        "id": "VQtpZh1YD-kz",
        "colab_type": "text"
      },
      "cell_type": "markdown",
      "source": [
        "# CUDA tensors"
      ]
    },
    {
      "metadata": {
        "id": "E_C3en05L7iT",
        "colab_type": "code",
        "outputId": "79fec255-63db-4898-a991-1b215ba2d8fc",
        "colab": {
          "base_uri": "https://localhost:8080/",
          "height": 34
        }
      },
      "cell_type": "code",
      "source": [
        "# Is CUDA available?\n",
        "print (torch.cuda.is_available())"
      ],
      "execution_count": 19,
      "outputs": [
        {
          "output_type": "stream",
          "text": [
            "True\n"
          ],
          "name": "stdout"
        }
      ]
    },
    {
      "metadata": {
        "id": "za47KWEJ6en2",
        "colab_type": "text"
      },
      "cell_type": "markdown",
      "source": [
        "If the code above return False, then go to `Runtime` → `Change runtime type` and select `GPU` under `Hardware accelerator`. "
      ]
    },
    {
      "metadata": {
        "id": "Q5gUR8uz683L",
        "colab_type": "code",
        "colab": {}
      },
      "cell_type": "code",
      "source": [
        "# Load PyTorch library\n",
        "!pip3 install torch torchvision"
      ],
      "execution_count": 0,
      "outputs": []
    },
    {
      "metadata": {
        "id": "BY2DdN3j6ZxO",
        "colab_type": "code",
        "colab": {
          "base_uri": "https://localhost:8080/",
          "height": 34
        },
        "outputId": "59ec08eb-8ab6-4b62-e311-d97326dbbdb3"
      },
      "cell_type": "code",
      "source": [
        "# Creating a zero tensor\n",
        "x = torch.Tensor(3, 4).to(\"cpu\")\n",
        "print(\"Type: {}\".format(x.type()))"
      ],
      "execution_count": 24,
      "outputs": [
        {
          "output_type": "stream",
          "text": [
            "Type: torch.FloatTensor\n"
          ],
          "name": "stdout"
        }
      ]
    },
    {
      "metadata": {
        "id": "EcmdTggzEFPi",
        "colab_type": "code",
        "outputId": "547adc54-42eb-49b4-fde1-2d9455bba936",
        "colab": {
          "base_uri": "https://localhost:8080/",
          "height": 34
        }
      },
      "cell_type": "code",
      "source": [
        "# Creating a zero tensor\n",
        "x = torch.Tensor(3, 4).to(\"cuda\")\n",
        "print(\"Type: {}\".format(x.type()))"
      ],
      "execution_count": 25,
      "outputs": [
        {
          "output_type": "stream",
          "text": [
            "Type: torch.cuda.FloatTensor\n"
          ],
          "name": "stdout"
        }
      ]
    }
  ]
}