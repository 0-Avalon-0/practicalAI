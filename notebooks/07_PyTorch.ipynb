{
  "nbformat": 4,
  "nbformat_minor": 0,
  "metadata": {
    "colab": {
      "name": "07_PyTorch",
      "version": "0.3.2",
      "provenance": [],
      "collapsed_sections": [],
      "toc_visible": true
    },
    "kernelspec": {
      "name": "python3",
      "display_name": "Python 3"
    },
    "accelerator": "GPU"
  },
  "cells": [
    {
      "metadata": {
        "id": "bOChJSNXtC9g",
        "colab_type": "text"
      },
      "cell_type": "markdown",
      "source": [
        "# PyTorch"
      ]
    },
    {
      "metadata": {
        "id": "OLIxEDq6VhvZ",
        "colab_type": "text"
      },
      "cell_type": "markdown",
      "source": [
        "<img src=\"https://raw.githubusercontent.com/GokuMohandas/practicalAI/master/images/logo.png\" width=150>\n",
        "\n",
        "In this lesson we'll learn about PyTorch which is a machine learning library used to build dynamic neural networks. We'll learn about the basics, like creating and using Tensors, in this lesson but we'll be making models with it in the next lesson.\n",
        "\n",
        "<img src=\"https://raw.githubusercontent.com/GokuMohandas/practicalAI/master/images/pytorch.png\" width=300>"
      ]
    },
    {
      "metadata": {
        "id": "VoMq0eFRvugb",
        "colab_type": "text"
      },
      "cell_type": "markdown",
      "source": [
        "# Tensor basics"
      ]
    },
    {
      "metadata": {
        "id": "0-dXQiLlTIgz",
        "colab_type": "code",
        "colab": {}
      },
      "cell_type": "code",
      "source": [
        "# Loading PyTorch library\n",
        "!pip3 install http://download.pytorch.org/whl/cpu/torch-0.4.1-cp36-cp36m-linux_x86_64.whl\n",
        "!pip3 install torchvision"
      ],
      "execution_count": 0,
      "outputs": []
    },
    {
      "metadata": {
        "id": "rX7Vs1JxL9wX",
        "colab_type": "code",
        "colab": {}
      },
      "cell_type": "code",
      "source": [
        "import numpy as np\n",
        "import torch"
      ],
      "execution_count": 0,
      "outputs": []
    },
    {
      "metadata": {
        "id": "Nv0xryLkKujV",
        "colab_type": "code",
        "colab": {
          "base_uri": "https://localhost:8080/",
          "height": 119
        },
        "outputId": "6872e622-a284-4b3b-a7a1-ca9a621d4c8e"
      },
      "cell_type": "code",
      "source": [
        "# Creating a zero tensor\n",
        "x = torch.Tensor(3, 4)\n",
        "print(\"Type: {}\".format(x.type()))\n",
        "print(\"Size: {}\".format(x.shape))\n",
        "print(\"Values: \\n{}\".format(x))"
      ],
      "execution_count": 8,
      "outputs": [
        {
          "output_type": "stream",
          "text": [
            "Type: torch.FloatTensor\n",
            "Size: torch.Size([3, 4])\n",
            "Values: \n",
            "tensor([[0.0000, 0.0000, 0.0000, 0.0000],\n",
            "        [0.0000, 0.0000, 0.0000, 0.0000],\n",
            "        [0.0000, 0.0000, 0.0000, 0.0000]])\n"
          ],
          "name": "stdout"
        }
      ]
    },
    {
      "metadata": {
        "id": "vnyzY4PHL7c5",
        "colab_type": "code",
        "colab": {
          "base_uri": "https://localhost:8080/",
          "height": 51
        },
        "outputId": "a999a9a0-43bc-4709-c45a-a6ee23e0f2ca"
      },
      "cell_type": "code",
      "source": [
        "# Creating a random tensor\n",
        "x = torch.randn(2, 3) # normal distribution (rand(2,3) -> uniform distribution)\n",
        "print (x)"
      ],
      "execution_count": 9,
      "outputs": [
        {
          "output_type": "stream",
          "text": [
            "tensor([[-0.7944,  0.2175, -0.6246],\n",
            "        [-1.1934,  0.2402,  2.0024]])\n"
          ],
          "name": "stdout"
        }
      ]
    },
    {
      "metadata": {
        "id": "DVwGNeKxMXI8",
        "colab_type": "code",
        "colab": {
          "base_uri": "https://localhost:8080/",
          "height": 85
        },
        "outputId": "d71664b0-1397-4318-c4f5-ce340afa9067"
      },
      "cell_type": "code",
      "source": [
        "# Zero and Ones tensor\n",
        "x = torch.zeros(2, 3)\n",
        "print (x)\n",
        "x = torch.ones(2, 3)\n",
        "print (x)"
      ],
      "execution_count": 11,
      "outputs": [
        {
          "output_type": "stream",
          "text": [
            "tensor([[0., 0., 0.],\n",
            "        [0., 0., 0.]])\n",
            "tensor([[1., 1., 1.],\n",
            "        [1., 1., 1.]])\n"
          ],
          "name": "stdout"
        }
      ]
    },
    {
      "metadata": {
        "id": "BPjHnDmCMXLm",
        "colab_type": "code",
        "colab": {
          "base_uri": "https://localhost:8080/",
          "height": 85
        },
        "outputId": "17d5afb4-0a46-4814-dd8c-9609f83a8984"
      },
      "cell_type": "code",
      "source": [
        "# List → Tensor\n",
        "x = torch.Tensor([[1, 2, 3],[4, 5, 6]])\n",
        "print(\"Size: {}\".format(x.shape)) \n",
        "print(\"Values: \\n{}\".format(x))"
      ],
      "execution_count": 17,
      "outputs": [
        {
          "output_type": "stream",
          "text": [
            "Size: torch.Size([2, 3])\n",
            "Values: \n",
            "tensor([[1., 2., 3.],\n",
            "        [4., 5., 6.]])\n"
          ],
          "name": "stdout"
        }
      ]
    },
    {
      "metadata": {
        "id": "mG4-CHkgMXOE",
        "colab_type": "code",
        "colab": {
          "base_uri": "https://localhost:8080/",
          "height": 85
        },
        "outputId": "1a7dcfa6-c653-41d6-bc0a-393e39594370"
      },
      "cell_type": "code",
      "source": [
        "# NumPy array → Tensor\n",
        "x = torch.from_numpy(np.random.rand(2, 3))\n",
        "print(\"Size: {}\".format(x.shape)) \n",
        "print(\"Values: \\n{}\".format(x))"
      ],
      "execution_count": 18,
      "outputs": [
        {
          "output_type": "stream",
          "text": [
            "Size: torch.Size([2, 3])\n",
            "Values: \n",
            "tensor([[0.3628, 0.9200, 0.6031],\n",
            "        [0.3117, 0.3107, 0.8320]], dtype=torch.float64)\n"
          ],
          "name": "stdout"
        }
      ]
    },
    {
      "metadata": {
        "id": "L8X2-5cqMXRA",
        "colab_type": "code",
        "colab": {
          "base_uri": "https://localhost:8080/",
          "height": 51
        },
        "outputId": "29406ab7-d0ea-4473-8327-3d8e738e46a7"
      },
      "cell_type": "code",
      "source": [
        "# Changing tensor type\n",
        "x = torch.Tensor(3, 4)\n",
        "print(\"Type: {}\".format(x.type()))\n",
        "x = x.long()\n",
        "print(\"Type: {}\".format(x.type()))"
      ],
      "execution_count": 20,
      "outputs": [
        {
          "output_type": "stream",
          "text": [
            "Type: torch.LongTensor\n",
            "Type: torch.LongTensor\n"
          ],
          "name": "stdout"
        }
      ]
    },
    {
      "metadata": {
        "id": "S2BRPaMvPbe3",
        "colab_type": "text"
      },
      "cell_type": "markdown",
      "source": [
        "# Tensor operations"
      ]
    },
    {
      "metadata": {
        "id": "Xrn8I76TMXT1",
        "colab_type": "code",
        "colab": {
          "base_uri": "https://localhost:8080/",
          "height": 85
        },
        "outputId": "f8ecbf11-2c68-41fa-9b5d-85ee0e882d35"
      },
      "cell_type": "code",
      "source": [
        "# Addition\n",
        "x = torch.randn(2, 3)\n",
        "y = torch.randn(2, 3)\n",
        "z = x + y\n",
        "print(\"Size: {}\".format(z.shape)) \n",
        "print(\"Values: \\n{}\".format(z))"
      ],
      "execution_count": 28,
      "outputs": [
        {
          "output_type": "stream",
          "text": [
            "Size: torch.Size([2, 3])\n",
            "Values: \n",
            "tensor([[-0.1738, -1.2363,  0.0432],\n",
            "        [ 0.3292,  0.2604, -0.7855]])\n"
          ],
          "name": "stdout"
        }
      ]
    },
    {
      "metadata": {
        "id": "157fC9WsMXWf",
        "colab_type": "code",
        "colab": {
          "base_uri": "https://localhost:8080/",
          "height": 85
        },
        "outputId": "7c83fea4-c4a6-4689-ae34-dd8e47fff776"
      },
      "cell_type": "code",
      "source": [
        "# Dot product\n",
        "x = torch.randn(2, 3)\n",
        "y = torch.randn(3, 2)\n",
        "z = torch.mm(x, y)\n",
        "print(\"Size: {}\".format(z.shape)) \n",
        "print(\"Values: \\n{}\".format(z))"
      ],
      "execution_count": 30,
      "outputs": [
        {
          "output_type": "stream",
          "text": [
            "Size: torch.Size([2, 2])\n",
            "Values: \n",
            "tensor([[ 0.8236, -2.2747],\n",
            "        [-1.3295,  1.4425]])\n"
          ],
          "name": "stdout"
        }
      ]
    },
    {
      "metadata": {
        "id": "G6316lAmMXZG",
        "colab_type": "code",
        "colab": {
          "base_uri": "https://localhost:8080/",
          "height": 170
        },
        "outputId": "137b950e-3f94-4e21-fb0a-2ec7ca8bea20"
      },
      "cell_type": "code",
      "source": [
        "# Transpose\n",
        "x = torch.randn(2, 3)\n",
        "print(\"Size: {}\".format(x.shape)) \n",
        "print(\"Values: \\n{}\".format(x))\n",
        "y = torch.t(x)\n",
        "print(\"Size: {}\".format(y.shape)) \n",
        "print(\"Values: \\n{}\".format(y))"
      ],
      "execution_count": 37,
      "outputs": [
        {
          "output_type": "stream",
          "text": [
            "Size: torch.Size([2, 3])\n",
            "Values: \n",
            "tensor([[ 1.4126,  0.2452,  1.4417],\n",
            "        [-0.5382,  2.1056, -0.6229]])\n",
            "Size: torch.Size([3, 2])\n",
            "Values: \n",
            "tensor([[ 1.4126, -0.5382],\n",
            "        [ 0.2452,  2.1056],\n",
            "        [ 1.4417, -0.6229]])\n"
          ],
          "name": "stdout"
        }
      ]
    },
    {
      "metadata": {
        "id": "FCgDCOCjMXcF",
        "colab_type": "code",
        "colab": {
          "base_uri": "https://localhost:8080/",
          "height": 102
        },
        "outputId": "d563ad4e-de6b-443a-dfc8-57ff88f8c2df"
      },
      "cell_type": "code",
      "source": [
        "# Reshape\n",
        "z = x.view(3, 2)\n",
        "print(\"Size: {}\".format(z.shape)) \n",
        "print(\"Values: \\n{}\".format(z))"
      ],
      "execution_count": 38,
      "outputs": [
        {
          "output_type": "stream",
          "text": [
            "Size: torch.Size([3, 2])\n",
            "Values: \n",
            "tensor([[ 1.4126,  0.2452],\n",
            "        [ 1.4417, -0.5382],\n",
            "        [ 2.1056, -0.6229]])\n"
          ],
          "name": "stdout"
        }
      ]
    },
    {
      "metadata": {
        "id": "T3-6nGgvECH9",
        "colab_type": "code",
        "colab": {
          "base_uri": "https://localhost:8080/",
          "height": 561
        },
        "outputId": "cd811d60-209d-4e9f-fede-ebb864186ece"
      },
      "cell_type": "code",
      "source": [
        "# Dangers of reshaping (unintended consequences)\n",
        "x = torch.tensor([\n",
        "    [[1,1,1,1], [2,2,2,2], [3,3,3,3]],\n",
        "    [[10,10,10,10], [20,20,20,20], [30,30,30,30]]\n",
        "])\n",
        "print(\"Size: {}\".format(x.shape)) \n",
        "print(\"Values: \\n{}\\n\".format(x))\n",
        "a = x.view(x.size(1), -1)\n",
        "print(\"Size: {}\".format(a.shape)) \n",
        "print(\"Values: \\n{}\\n\".format(a))\n",
        "b = x.transpose(0,1).contiguous()\n",
        "print(\"Size: {}\".format(b.shape)) \n",
        "print(\"Values: \\n{}\\n\".format(b))\n",
        "c = b.view(b.size(0), -1)\n",
        "print(\"Size: {}\".format(c.shape)) \n",
        "print(\"Values: \\n{}\".format(c))"
      ],
      "execution_count": 14,
      "outputs": [
        {
          "output_type": "stream",
          "text": [
            "Size: torch.Size([2, 3, 4])\n",
            "Values: \n",
            "tensor([[[ 1,  1,  1,  1],\n",
            "         [ 2,  2,  2,  2],\n",
            "         [ 3,  3,  3,  3]],\n",
            "\n",
            "        [[10, 10, 10, 10],\n",
            "         [20, 20, 20, 20],\n",
            "         [30, 30, 30, 30]]])\n",
            "\n",
            "Size: torch.Size([3, 8])\n",
            "Values: \n",
            "tensor([[ 1,  1,  1,  1,  2,  2,  2,  2],\n",
            "        [ 3,  3,  3,  3, 10, 10, 10, 10],\n",
            "        [20, 20, 20, 20, 30, 30, 30, 30]])\n",
            "\n",
            "Size: torch.Size([3, 2, 4])\n",
            "Values: \n",
            "tensor([[[ 1,  1,  1,  1],\n",
            "         [10, 10, 10, 10]],\n",
            "\n",
            "        [[ 2,  2,  2,  2],\n",
            "         [20, 20, 20, 20]],\n",
            "\n",
            "        [[ 3,  3,  3,  3],\n",
            "         [30, 30, 30, 30]]])\n",
            "\n",
            "Size: torch.Size([3, 8])\n",
            "Values: \n",
            "tensor([[ 1,  1,  1,  1, 10, 10, 10, 10],\n",
            "        [ 2,  2,  2,  2, 20, 20, 20, 20],\n",
            "        [ 3,  3,  3,  3, 30, 30, 30, 30]])\n"
          ],
          "name": "stdout"
        }
      ]
    },
    {
      "metadata": {
        "id": "hRtG5LShMXew",
        "colab_type": "code",
        "colab": {
          "base_uri": "https://localhost:8080/",
          "height": 136
        },
        "outputId": "e30055dc-86df-4f0d-ba3d-11934a27036d"
      },
      "cell_type": "code",
      "source": [
        "# Dimensional operations\n",
        "x = torch.randn(2, 3)\n",
        "print(\"Values: \\n{}\".format(x))\n",
        "y = torch.sum(x, dim=0) # add each row's value for every column\n",
        "print(\"Values: \\n{}\".format(y))\n",
        "z = torch.sum(x, dim=1) # add each columns's value for every row\n",
        "print(\"Values: \\n{}\".format(z))"
      ],
      "execution_count": 46,
      "outputs": [
        {
          "output_type": "stream",
          "text": [
            "Values: \n",
            "tensor([[ 0.2620,  1.3476,  0.0293],\n",
            "        [-1.0543,  0.6133,  1.1598]])\n",
            "Values: \n",
            "tensor([-0.7923,  1.9609,  1.1890])\n",
            "Values: \n",
            "tensor([1.6389, 0.7188])\n"
          ],
          "name": "stdout"
        }
      ]
    },
    {
      "metadata": {
        "id": "zI0ZV45PrYmw",
        "colab_type": "text"
      },
      "cell_type": "markdown",
      "source": [
        "# Indexing, Splicing and Joining"
      ]
    },
    {
      "metadata": {
        "id": "iM3UFrs0MXhL",
        "colab_type": "code",
        "colab": {
          "base_uri": "https://localhost:8080/",
          "height": 153
        },
        "outputId": "235648d5-3368-4802-f358-7d8cb9109153"
      },
      "cell_type": "code",
      "source": [
        "x = torch.randn(3, 4)\n",
        "print(\"x: \\n{}\".format(x))\n",
        "print (\"x[:1]: \\n{}\".format(x[:1]))\n",
        "print (\"x[:1, 1:3]: \\n{}\".format(x[:1, 1:3]))"
      ],
      "execution_count": 57,
      "outputs": [
        {
          "output_type": "stream",
          "text": [
            "x: \n",
            "tensor([[ 1.1246, -0.2332, -1.4949, -0.0027],\n",
            "        [-3.2987,  1.3942,  0.6828,  0.0526],\n",
            "        [-0.8039, -0.3504, -1.4238, -1.7279]])\n",
            "x[:1]: \n",
            "tensor([[ 1.1246, -0.2332, -1.4949, -0.0027]])\n",
            "x[:1, 1:3]: \n",
            "tensor([[-0.2332, -1.4949]])\n"
          ],
          "name": "stdout"
        }
      ]
    },
    {
      "metadata": {
        "id": "_tbpwGxcMXj0",
        "colab_type": "code",
        "colab": {
          "base_uri": "https://localhost:8080/",
          "height": 153
        },
        "outputId": "fcf347e3-b88e-44e9-f042-298bdca75373"
      },
      "cell_type": "code",
      "source": [
        "# Select with dimensional indicies\n",
        "x = torch.randn(2, 3)\n",
        "print(\"Values: \\n{}\".format(x))\n",
        "col_indices = torch.LongTensor([0, 2])\n",
        "chosen = torch.index_select(x, dim=1, index=col_indices) # values from column 0 & 2\n",
        "print(\"Values: \\n{}\".format(chosen)) \n",
        "row_indices = torch.LongTensor([0, 1])\n",
        "chosen = x[row_indices, col_indices] # values from (0, 0) & (2, 1)\n",
        "print(\"Values: \\n{}\".format(chosen)) "
      ],
      "execution_count": 62,
      "outputs": [
        {
          "output_type": "stream",
          "text": [
            "Values: \n",
            "tensor([[ 1.7620,  0.1646, -0.1442],\n",
            "        [-0.0502,  0.3961, -1.5571]])\n",
            "Values: \n",
            "tensor([[ 1.7620, -0.1442],\n",
            "        [-0.0502, -1.5571]])\n",
            "Values: \n",
            "tensor([ 1.7620, -1.5571])\n"
          ],
          "name": "stdout"
        }
      ]
    },
    {
      "metadata": {
        "id": "tMeqSQtuMXmH",
        "colab_type": "code",
        "colab": {
          "base_uri": "https://localhost:8080/",
          "height": 153
        },
        "outputId": "28644155-9cbc-4de8-cd31-8be137a00967"
      },
      "cell_type": "code",
      "source": [
        "# Concatenation\n",
        "x = torch.randn(2, 3)\n",
        "print(\"Values: \\n{}\".format(x))\n",
        "y = torch.cat([x, x], dim=0) # stack by rows (dim=1 to stack by columns)\n",
        "print(\"Values: \\n{}\".format(y))"
      ],
      "execution_count": 63,
      "outputs": [
        {
          "output_type": "stream",
          "text": [
            "Values: \n",
            "tensor([[-1.7459, -0.1240, -0.9572],\n",
            "        [-1.3716,  0.1838, -1.7256]])\n",
            "Values: \n",
            "tensor([[-1.7459, -0.1240, -0.9572],\n",
            "        [-1.3716,  0.1838, -1.7256],\n",
            "        [-1.7459, -0.1240, -0.9572],\n",
            "        [-1.3716,  0.1838, -1.7256]])\n"
          ],
          "name": "stdout"
        }
      ]
    },
    {
      "metadata": {
        "id": "JqiDuIC-ByvO",
        "colab_type": "text"
      },
      "cell_type": "markdown",
      "source": [
        "# Gradients"
      ]
    },
    {
      "metadata": {
        "id": "qxpGB7-VL7fs",
        "colab_type": "code",
        "colab": {
          "base_uri": "https://localhost:8080/",
          "height": 153
        },
        "outputId": "c481d407-2773-4a78-a0c4-2028ca5587b1"
      },
      "cell_type": "code",
      "source": [
        "# Tensors with gradient bookkeeping\n",
        "x = torch.rand(3, 4, requires_grad=True)\n",
        "y = 3*x + 2\n",
        "z = y.mean()\n",
        "z.backward() # z has to be scalar\n",
        "print(\"Values: \\n{}\".format(x))\n",
        "print(\"x.grad: \\n\", x.grad)"
      ],
      "execution_count": 74,
      "outputs": [
        {
          "output_type": "stream",
          "text": [
            "Values: \n",
            "tensor([[0.8234, 0.4965, 0.6421, 0.6624],\n",
            "        [0.3505, 0.4305, 0.0720, 0.4719],\n",
            "        [0.3634, 0.4580, 0.4116, 0.3034]], requires_grad=True)\n",
            "x.grad: \n",
            " tensor([[0.2500, 0.2500, 0.2500, 0.2500],\n",
            "        [0.2500, 0.2500, 0.2500, 0.2500],\n",
            "        [0.2500, 0.2500, 0.2500, 0.2500]])\n"
          ],
          "name": "stdout"
        }
      ]
    },
    {
      "metadata": {
        "id": "uf7htaAMDcRV",
        "colab_type": "text"
      },
      "cell_type": "markdown",
      "source": [
        "* $ x = 3x + 2 $\n",
        "* $ x = \\sum{y}/N $\n",
        "* $ \\frac{\\partial(z)}{\\partial(x)} = \\frac{\\partial(z)}{\\partial(y)} \\frac{\\partial(z)}{\\partial(x)} = \\frac{1}{N} * 3 = \\frac{1}{12} * 3 = 0.25 $"
      ]
    },
    {
      "metadata": {
        "id": "VQtpZh1YD-kz",
        "colab_type": "text"
      },
      "cell_type": "markdown",
      "source": [
        "# CUDA tensors"
      ]
    },
    {
      "metadata": {
        "id": "E_C3en05L7iT",
        "colab_type": "code",
        "colab": {
          "base_uri": "https://localhost:8080/",
          "height": 34
        },
        "outputId": "f4f1fd35-0e1c-4dfa-cad4-f76f14aa39b8"
      },
      "cell_type": "code",
      "source": [
        "# Is CUDA available?\n",
        "print (torch.cuda.is_available())"
      ],
      "execution_count": 75,
      "outputs": [
        {
          "output_type": "stream",
          "text": [
            "False\n"
          ],
          "name": "stdout"
        }
      ]
    },
    {
      "metadata": {
        "id": "fc23K-5lEF6z",
        "colab_type": "text"
      },
      "cell_type": "markdown",
      "source": [
        "If False (CUDA is not available), let's change that by following these steps: Go to *Runtime* > *Change runtime type* > Change *Hardware accelertor* to *GPU* > Click *Save*"
      ]
    },
    {
      "metadata": {
        "id": "ipZsfkPwEkhk",
        "colab_type": "code",
        "colab": {}
      },
      "cell_type": "code",
      "source": [
        "# Install CUDA 9.0 enabled PyTorch library (may take a few minutes)\n",
        "!pip3 install torch torchvision\n",
        "import torch"
      ],
      "execution_count": 0,
      "outputs": []
    },
    {
      "metadata": {
        "id": "EcmdTggzEFPi",
        "colab_type": "code",
        "colab": {
          "base_uri": "https://localhost:8080/",
          "height": 34
        },
        "outputId": "e252600f-faf9-410a-e1e4-cc84b6b9ccb2"
      },
      "cell_type": "code",
      "source": [
        "# Is CUDA available now?\n",
        "print (torch.cuda.is_available())"
      ],
      "execution_count": 3,
      "outputs": [
        {
          "output_type": "stream",
          "text": [
            "True\n"
          ],
          "name": "stdout"
        }
      ]
    }
  ]
}