{
  "nbformat": 4,
  "nbformat_minor": 0,
  "metadata": {
    "colab": {
      "name": "02_NumPy",
      "version": "0.3.2",
      "provenance": [],
      "collapsed_sections": [],
      "toc_visible": true
    },
    "kernelspec": {
      "name": "python3",
      "display_name": "Python 3"
    }
  },
  "cells": [
    {
      "metadata": {
        "id": "bOChJSNXtC9g",
        "colab_type": "text"
      },
      "cell_type": "markdown",
      "source": [
        "# NumPy"
      ]
    },
    {
      "metadata": {
        "id": "OLIxEDq6VhvZ",
        "colab_type": "text"
      },
      "cell_type": "markdown",
      "source": [
        "<img src=\"https://raw.githubusercontent.com/GokuMohandas/practicalAI/master/images/logo.png\" width=150>\n",
        "\n",
        "In this lesson we will learn the basics of numerical analysis using the NumPy package.\n",
        "\n",
        "<img src=\"https://raw.githubusercontent.com/GokuMohandas/practicalAI/master/images/numpy.png\" width=300>\n",
        "\n",
        "\n"
      ]
    },
    {
      "metadata": {
        "id": "VoMq0eFRvugb",
        "colab_type": "text"
      },
      "cell_type": "markdown",
      "source": [
        "# NumPy basics"
      ]
    },
    {
      "metadata": {
        "id": "0-dXQiLlTIgz",
        "colab_type": "code",
        "colab": {}
      },
      "cell_type": "code",
      "source": [
        "import numpy as np"
      ],
      "execution_count": 0,
      "outputs": []
    },
    {
      "metadata": {
        "id": "bhaOPJV7WA0m",
        "colab_type": "code",
        "colab": {}
      },
      "cell_type": "code",
      "source": [
        "# Set seed for reproducability\n",
        "np.random.seed(seed=1234)"
      ],
      "execution_count": 0,
      "outputs": []
    },
    {
      "metadata": {
        "id": "23tSlin9aWZ8",
        "colab_type": "code",
        "colab": {}
      },
      "cell_type": "code",
      "source": [
        "# Scalars\n",
        "x = np.array(6) # scalar\n",
        "print (\"x: \", x)\n",
        "print(\"x ndim: \", x.ndim)\n",
        "print(\"x shape:\", x.shape)\n",
        "print(\"x size: \", x.size)\n",
        "print (\"x dtype: \", x.dtype)"
      ],
      "execution_count": 0,
      "outputs": []
    },
    {
      "metadata": {
        "id": "ugIZprdIabFF",
        "colab_type": "code",
        "colab": {}
      },
      "cell_type": "code",
      "source": [
        "# 1-D Array\n",
        "x = np.array([1.3 , 2.2 , 1.7])\n",
        "print (\"x: \", x)\n",
        "print(\"x ndim: \", x.ndim)\n",
        "print(\"x shape:\", x.shape)\n",
        "print(\"x size: \", x.size)\n",
        "print (\"x dtype: \", x.dtype) # notice the float datatype"
      ],
      "execution_count": 0,
      "outputs": []
    },
    {
      "metadata": {
        "id": "SQI-T_4MbE9J",
        "colab_type": "code",
        "colab": {}
      },
      "cell_type": "code",
      "source": [
        "# 3-D array (matrix)\n",
        "x = np.array([[1,2,3], [4,5,6], [7,8,9]])\n",
        "print (\"x:\\n\", x)\n",
        "print(\"x ndim: \", x.ndim)\n",
        "print(\"x shape:\", x.shape)\n",
        "print(\"x size: \", x.size)\n",
        "print (\"x dtype: \", x.dtype)"
      ],
      "execution_count": 0,
      "outputs": []
    },
    {
      "metadata": {
        "id": "z2Qf8EKZln9j",
        "colab_type": "code",
        "colab": {}
      },
      "cell_type": "code",
      "source": [
        "# Functions\n",
        "print (\"np.zeros((2,2)):\\n\", np.zeros((2,2)))\n",
        "print (\"np.ones((2,2)):\\n\", np.ones((2,2)))\n",
        "print (\"np.eye((2)):\\n\", np.eye((2)))\n",
        "print (\"np.random.random((2,2)):\\n\", np.random.random((2,2)))"
      ],
      "execution_count": 0,
      "outputs": []
    },
    {
      "metadata": {
        "id": "qVD-MCiCdcV9",
        "colab_type": "text"
      },
      "cell_type": "markdown",
      "source": [
        "# Indexing"
      ]
    },
    {
      "metadata": {
        "id": "vyt36kFOcVDX",
        "colab_type": "code",
        "colab": {}
      },
      "cell_type": "code",
      "source": [
        "# Indexing\n",
        "x = np.array([1, 2, 3])\n",
        "print (\"x[0]: \", x[0])\n",
        "x[0] = 0\n",
        "print (\"x: \", x)"
      ],
      "execution_count": 0,
      "outputs": []
    },
    {
      "metadata": {
        "id": "qxHww0didni6",
        "colab_type": "code",
        "colab": {}
      },
      "cell_type": "code",
      "source": [
        "# Slicing\n",
        "x = np.array([[1,2,3,4], [5,6,7,8], [9,10,11,12]])\n",
        "print (x)\n",
        "print (\"x column 1: \", x[:, 1]) \n",
        "print (\"x row 0: \", x[0, :]) \n",
        "print (\"x rows 0,1,2 & cols 1,2: \\n\", x[:3, 1:3]) "
      ],
      "execution_count": 0,
      "outputs": []
    },
    {
      "metadata": {
        "id": "A52pzB9idyDE",
        "colab_type": "code",
        "colab": {}
      },
      "cell_type": "code",
      "source": [
        "# Integer array indexing\n",
        "print (x)\n",
        "rows_to_get = np.arange(len(x))\n",
        "print (\"rows_to_get: \", rows_to_get)\n",
        "cols_to_get = np.array([0, 2, 1])\n",
        "print (\"cols_to_get: \", cols_to_get)\n",
        "print (\"indexed values: \", x[rows_to_get, cols_to_get])"
      ],
      "execution_count": 0,
      "outputs": []
    },
    {
      "metadata": {
        "id": "_R7O5WsVfDij",
        "colab_type": "code",
        "colab": {}
      },
      "cell_type": "code",
      "source": [
        "# Boolean array indexing\n",
        "x = np.array([[1,2], [3, 4], [5, 6]])\n",
        "print (\"x:\\n\", x)\n",
        "print (\"x > 2:\\n\", x > 2)\n",
        "print (\"x[x > 2]:\\n\", x[x > 2])"
      ],
      "execution_count": 0,
      "outputs": []
    },
    {
      "metadata": {
        "id": "77RCjrQ8gvYW",
        "colab_type": "text"
      },
      "cell_type": "markdown",
      "source": [
        "# Array math"
      ]
    },
    {
      "metadata": {
        "id": "1UJVcNCLfFrV",
        "colab_type": "code",
        "colab": {}
      },
      "cell_type": "code",
      "source": [
        "# Basic math\n",
        "x = np.array([[1,2], [3,4]], dtype=np.float64)\n",
        "y = np.array([[1,2], [3,4]], dtype=np.float64)\n",
        "print (\"x + y:\\n\", np.add(x, y)) # or x + y\n",
        "print (\"x - y:\\n\", np.subtract(x, y)) # or x - y\n",
        "print (\"x * y:\\n\", np.multiply(x, y)) # or x * y"
      ],
      "execution_count": 0,
      "outputs": []
    },
    {
      "metadata": {
        "id": "1BV0nSIliMC6",
        "colab_type": "text"
      },
      "cell_type": "markdown",
      "source": [
        "<img src=\"https://raw.githubusercontent.com/GokuMohandas/practicalAI/master/images/matrix.png\" width=400>\n"
      ]
    },
    {
      "metadata": {
        "id": "XyZVF6gXhTWd",
        "colab_type": "code",
        "colab": {}
      },
      "cell_type": "code",
      "source": [
        "# Dot product\n",
        "a = np.array([[1,2,3], [4,5,6]], dtype=np.float64) # we can specify dtype\n",
        "b = np.array([[7,8], [9,10], [11, 12]], dtype=np.float64)\n",
        "print (a.dot(b))"
      ],
      "execution_count": 0,
      "outputs": []
    },
    {
      "metadata": {
        "id": "7pB-H-7phsku",
        "colab_type": "code",
        "colab": {}
      },
      "cell_type": "code",
      "source": [
        "# Sum across a dimension\n",
        "x = np.array([[1,2],[3,4]])\n",
        "print (x)\n",
        "print (\"sum all: \", np.sum(x)) # adds all elements\n",
        "print (\"sum by col: \", np.sum(x, axis=0)) # add numbers in each column\n",
        "print (\"sum by row: \", np.sum(x, axis=1)) # add numbers in each row"
      ],
      "execution_count": 0,
      "outputs": []
    },
    {
      "metadata": {
        "id": "pLDG49LrijgA",
        "colab_type": "code",
        "colab": {}
      },
      "cell_type": "code",
      "source": [
        "# Transposing\n",
        "print (\"x:\\n\", x)\n",
        "print (\"x.T:\\n\", x.T)"
      ],
      "execution_count": 0,
      "outputs": []
    },
    {
      "metadata": {
        "id": "KdPKVKtwkWnw",
        "colab_type": "text"
      },
      "cell_type": "markdown",
      "source": [
        "# Advanced"
      ]
    },
    {
      "metadata": {
        "id": "U_j2fCcjkEyo",
        "colab_type": "code",
        "colab": {}
      },
      "cell_type": "code",
      "source": [
        "# Tile\n",
        "x = np.array([[1,2], [3,4]])\n",
        "y = np.array([5, 6])\n",
        "addent = np.tile(y, (len(x), 1))\n",
        "print (\"addent: \\n\", addent)\n",
        "z = x + addent\n",
        "print (\"z:\\n\", z)"
      ],
      "execution_count": 0,
      "outputs": []
    },
    {
      "metadata": {
        "id": "1NsoFVo0mfQ4",
        "colab_type": "code",
        "colab": {}
      },
      "cell_type": "code",
      "source": [
        "# Broadcasting\n",
        "x = np.array([[1,2], [3,4]])\n",
        "y = np.array([5, 6])\n",
        "z = x + y\n",
        "print (\"z:\\n\", z)"
      ],
      "execution_count": 0,
      "outputs": []
    },
    {
      "metadata": {
        "id": "RdEHrnMTnO6k",
        "colab_type": "code",
        "colab": {}
      },
      "cell_type": "code",
      "source": [
        "# Reshaping\n",
        "x = np.array([[1,2], [3,4], [5,6]])\n",
        "print (x)\n",
        "print (\"x.shape: \", x.shape)\n",
        "y = np.reshape(x, (2, 3))\n",
        "print (\"y.shape: \", y.shape)\n",
        "print (\"y: \\n\", y)"
      ],
      "execution_count": 0,
      "outputs": []
    },
    {
      "metadata": {
        "id": "tE1BmoJuns70",
        "colab_type": "code",
        "colab": {}
      },
      "cell_type": "code",
      "source": [
        "# Removing dimensions\n",
        "x = np.array([[[1,2,1]],[[2,2,3]]])\n",
        "print (\"x.shape: \", x.shape)\n",
        "y = np.squeeze(x, 1) # squeeze dim 1\n",
        "print (\"y.shape: \", y.shape) \n",
        "print (\"y: \\n\", y)"
      ],
      "execution_count": 0,
      "outputs": []
    },
    {
      "metadata": {
        "id": "LNYJRMF4qvXN",
        "colab_type": "code",
        "colab": {}
      },
      "cell_type": "code",
      "source": [
        "# Adding dimensions\n",
        "x = np.array([[1,2,1],[2,2,3]])\n",
        "print (\"x.shape: \", x.shape)\n",
        "y = np.expand_dims(x, 1) # expand dim 1\n",
        "print (\"y.shape: \", y.shape) \n",
        "print (\"y: \\n\", y)"
      ],
      "execution_count": 0,
      "outputs": []
    },
    {
      "metadata": {
        "id": "XthM4y7SotAH",
        "colab_type": "text"
      },
      "cell_type": "markdown",
      "source": [
        "# Additional resources"
      ]
    },
    {
      "metadata": {
        "id": "3KmESFstrbFS",
        "colab_type": "text"
      },
      "cell_type": "markdown",
      "source": [
        "You don't have to memorize anything here and we will be taking a closer look at NumPy in the later lessons. If you are curious about more checkout the [NumPy reference manual](https://docs.scipy.org/doc/numpy-1.15.1/reference/)."
      ]
    }
  ]
}