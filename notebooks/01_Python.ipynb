{
  "nbformat": 4,
  "nbformat_minor": 0,
  "metadata": {
    "colab": {
      "name": "01_Python",
      "version": "0.3.2",
      "provenance": [],
      "collapsed_sections": [],
      "toc_visible": true
    },
    "kernelspec": {
      "name": "python3",
      "display_name": "Python 3"
    }
  },
  "cells": [
    {
      "metadata": {
        "id": "bOChJSNXtC9g",
        "colab_type": "text"
      },
      "cell_type": "markdown",
      "source": [
        "# Introduction to Python"
      ]
    },
    {
      "metadata": {
        "id": "OLIxEDq6VhvZ",
        "colab_type": "text"
      },
      "cell_type": "markdown",
      "source": [
        "<img src=\"https://raw.githubusercontent.com/GokuMohandas/practicalAI/master/images/logo.png\" width=150>\n",
        "\n",
        "In this lesson we will learn the basics of the Python programming language (version 3). We won't learn everything about Python but enough to do some basic machine learning.\n",
        "\n",
        "<img src=\"https://raw.githubusercontent.com/GokuMohandas/practicalAI/master/images/python.png\" width=350>\n",
        "\n",
        "\n"
      ]
    },
    {
      "metadata": {
        "id": "VoMq0eFRvugb",
        "colab_type": "text"
      },
      "cell_type": "markdown",
      "source": [
        "#  Variables"
      ]
    },
    {
      "metadata": {
        "id": "qWro5T5qTJJL",
        "colab_type": "text"
      },
      "cell_type": "markdown",
      "source": [
        "Variables are objects in python that can hold anything with numbers or text. Let's look at how to make some variables."
      ]
    },
    {
      "metadata": {
        "id": "0-dXQiLlTIgz",
        "colab_type": "code",
        "colab": {
          "base_uri": "https://localhost:8080/",
          "height": 34
        },
        "outputId": "13d53c5b-6941-41ac-de44-edb4419158fb"
      },
      "cell_type": "code",
      "source": [
        "# Numerical example\n",
        "x = 5\n",
        "print (x)"
      ],
      "execution_count": 15,
      "outputs": [
        {
          "output_type": "stream",
          "text": [
            "5\n"
          ],
          "name": "stdout"
        }
      ]
    },
    {
      "metadata": {
        "id": "5Ym0owFxTkjo",
        "colab_type": "code",
        "colab": {
          "base_uri": "https://localhost:8080/",
          "height": 34
        },
        "outputId": "2a99cb83-5cc5-4728-9b4a-a97a46afa7c5"
      },
      "cell_type": "code",
      "source": [
        "# Text example\n",
        "x = \"hello\"\n",
        "print (x)"
      ],
      "execution_count": 13,
      "outputs": [
        {
          "output_type": "stream",
          "text": [
            "hello\n"
          ],
          "name": "stdout"
        }
      ]
    },
    {
      "metadata": {
        "id": "1a4ZhMV1T1-0",
        "colab_type": "code",
        "colab": {
          "base_uri": "https://localhost:8080/",
          "height": 34
        },
        "outputId": "8775f617-e7d3-4a95-aa8b-7f15ed6fca6f"
      },
      "cell_type": "code",
      "source": [
        "# Variables can be used with each other\n",
        "a = 1\n",
        "b = 2\n",
        "c = a + b\n",
        "print (c)"
      ],
      "execution_count": 16,
      "outputs": [
        {
          "output_type": "stream",
          "text": [
            "3\n"
          ],
          "name": "stdout"
        }
      ]
    },
    {
      "metadata": {
        "id": "nbKV4aTdUC1_",
        "colab_type": "text"
      },
      "cell_type": "markdown",
      "source": [
        "Variables can come in lots of different types. Even within numerical variables, you can have integers (int), floats (float), etc. All text based variables are of type string (str). We can see what type a variable is by printing its type."
      ]
    },
    {
      "metadata": {
        "id": "c3NJmfO4Uc6V",
        "colab_type": "code",
        "colab": {
          "base_uri": "https://localhost:8080/",
          "height": 153
        },
        "outputId": "619ba3a4-9589-466f-ff0d-179de822f4b5"
      },
      "cell_type": "code",
      "source": [
        "# int variable\n",
        "x = 5\n",
        "print (x)\n",
        "print (type(x))\n",
        "\n",
        "# float variable\n",
        "x = 5.0\n",
        "print (x)\n",
        "print (type(x))\n",
        "\n",
        "# text variable\n",
        "x = \"5\" \n",
        "print (x)\n",
        "print (type(x))\n",
        "\n",
        "# boolean variable\n",
        "x = True\n",
        "print (x)\n",
        "print (type(x))"
      ],
      "execution_count": 14,
      "outputs": [
        {
          "output_type": "stream",
          "text": [
            "5\n",
            "<class 'int'>\n",
            "5.0\n",
            "<class 'float'>\n",
            "5\n",
            "<class 'str'>\n",
            "True\n",
            "<class 'bool'>\n"
          ],
          "name": "stdout"
        }
      ]
    },
    {
      "metadata": {
        "id": "6HPtavfdU8Ut",
        "colab_type": "text"
      },
      "cell_type": "markdown",
      "source": [
        "It's good practice to know what types your variables are. When you want to use numerical operations on then, they need to be compatible. "
      ]
    },
    {
      "metadata": {
        "id": "8pr1-i7IVD-h",
        "colab_type": "code",
        "colab": {
          "base_uri": "https://localhost:8080/",
          "height": 51
        },
        "outputId": "409eab3a-4767-4333-c5dc-48965fd2eae2"
      },
      "cell_type": "code",
      "source": [
        "# int variables\n",
        "a = 5\n",
        "b = 3\n",
        "print (a + b)\n",
        "\n",
        "# string variables\n",
        "a = \"5\"\n",
        "b = \"3\"\n",
        "print (a + b)"
      ],
      "execution_count": 25,
      "outputs": [
        {
          "output_type": "stream",
          "text": [
            "8\n",
            "53\n"
          ],
          "name": "stdout"
        }
      ]
    },
    {
      "metadata": {
        "id": "q4R_UF6PVw4V",
        "colab_type": "text"
      },
      "cell_type": "markdown",
      "source": [
        "#  Lists"
      ]
    },
    {
      "metadata": {
        "id": "LvGsQBj4VjMl",
        "colab_type": "text"
      },
      "cell_type": "markdown",
      "source": [
        "Lists are objects in python that can hold a ordered sequence of numbers **and** text."
      ]
    },
    {
      "metadata": {
        "id": "9iPESkq9VvlX",
        "colab_type": "code",
        "colab": {
          "base_uri": "https://localhost:8080/",
          "height": 34
        },
        "outputId": "0ba3299d-a49c-41a8-be8f-ea292d07099b"
      },
      "cell_type": "code",
      "source": [
        "# Making a list\n",
        "list_x = [3, \"hello\", 1]\n",
        "print (list_x)"
      ],
      "execution_count": 9,
      "outputs": [
        {
          "output_type": "stream",
          "text": [
            "[3, 'hello', 1]\n"
          ],
          "name": "stdout"
        }
      ]
    },
    {
      "metadata": {
        "id": "0xC6WvuwbGDg",
        "colab_type": "text"
      },
      "cell_type": "markdown",
      "source": [
        ""
      ]
    },
    {
      "metadata": {
        "id": "7lbajc-zV515",
        "colab_type": "code",
        "colab": {
          "base_uri": "https://localhost:8080/",
          "height": 34
        },
        "outputId": "dc63b23c-1b9f-4668-e40a-dd3168e20d4e"
      },
      "cell_type": "code",
      "source": [
        "# Adding to a list\n",
        "list_x.append(7)\n",
        "print (list_x)"
      ],
      "execution_count": 10,
      "outputs": [
        {
          "output_type": "stream",
          "text": [
            "[3, 'hello', 1, 7]\n"
          ],
          "name": "stdout"
        }
      ]
    },
    {
      "metadata": {
        "id": "W0xpIryJWCN9",
        "colab_type": "code",
        "colab": {
          "base_uri": "https://localhost:8080/",
          "height": 102
        },
        "outputId": "ff4556f8-bc22-47ad-880f-4e5b9f99193e"
      },
      "cell_type": "code",
      "source": [
        "# Accessing items at specific location in a list\n",
        "print (\"list_x[0]: \", list_x[0])\n",
        "print (\"list_x[1]: \", list_x[1])\n",
        "print (\"list_x[2]: \", list_x[2])\n",
        "print (\"list_x[-1]: \", list_x[-1]) # the last item\n",
        "print (\"list_x[-2]: \", list_x[-2]) # the second to last item"
      ],
      "execution_count": 11,
      "outputs": [
        {
          "output_type": "stream",
          "text": [
            "list_x[0]:  3\n",
            "list_x[1]:  hello\n",
            "list_x[2]:  1\n",
            "list_x[-1]:  7\n",
            "list_x[-2]:  1\n"
          ],
          "name": "stdout"
        }
      ]
    },
    {
      "metadata": {
        "id": "VSu_HNrnc1WK",
        "colab_type": "code",
        "colab": {
          "base_uri": "https://localhost:8080/",
          "height": 85
        },
        "outputId": "46c5d289-f7b1-4360-c832-c1332a7783ec"
      },
      "cell_type": "code",
      "source": [
        "# Slicing\n",
        "print (\"list_x[:]: \", list_x[:])\n",
        "print (\"list_x[2:]: \", list_x[2:])\n",
        "print (\"list_x[1:3]: \", list_x[1:3])\n",
        "print (\"list_x[:-1]: \", list_x[:-1])"
      ],
      "execution_count": 12,
      "outputs": [
        {
          "output_type": "stream",
          "text": [
            "list_x[:]:  [3, 'hello', 1, 7]\n",
            "list_x[2:]:  [1, 7]\n",
            "list_x[1:3]:  ['hello', 1]\n",
            "list_x[:-1]:  [3, 'hello', 1]\n"
          ],
          "name": "stdout"
        }
      ]
    },
    {
      "metadata": {
        "id": "dImY-hVzWxB4",
        "colab_type": "code",
        "colab": {
          "base_uri": "https://localhost:8080/",
          "height": 34
        },
        "outputId": "def2a30f-00e1-402c-bbed-2ec5476a0494"
      },
      "cell_type": "code",
      "source": [
        "# Length of a list\n",
        "len(list_x)"
      ],
      "execution_count": 16,
      "outputs": [
        {
          "output_type": "execute_result",
          "data": {
            "text/plain": [
              "4"
            ]
          },
          "metadata": {
            "tags": []
          },
          "execution_count": 16
        }
      ]
    },
    {
      "metadata": {
        "id": "3-reXDniW_sm",
        "colab_type": "code",
        "colab": {
          "base_uri": "https://localhost:8080/",
          "height": 34
        },
        "outputId": "6afcd0d4-03eb-427f-9cdb-7e4053e5ba30"
      },
      "cell_type": "code",
      "source": [
        "# Replacing items in a list\n",
        "list_x[1] = \"hi\"\n",
        "print (list_x)"
      ],
      "execution_count": 40,
      "outputs": [
        {
          "output_type": "stream",
          "text": [
            "[3, 'hi', 1, 7]\n"
          ],
          "name": "stdout"
        }
      ]
    },
    {
      "metadata": {
        "id": "X8T5I3bjXJ0S",
        "colab_type": "code",
        "colab": {
          "base_uri": "https://localhost:8080/",
          "height": 34
        },
        "outputId": "388ff773-e62f-4ee6-b7a5-c67713f83d41"
      },
      "cell_type": "code",
      "source": [
        "# Combining lists\n",
        "list_y = [2.4, \"world\"]\n",
        "list_z = list_x + list_y\n",
        "print (list_z)"
      ],
      "execution_count": 17,
      "outputs": [
        {
          "output_type": "stream",
          "text": [
            "[3, 'hello', 1, 7, 2.4, 'world']\n"
          ],
          "name": "stdout"
        }
      ]
    },
    {
      "metadata": {
        "id": "ddpIO6LLVzh0",
        "colab_type": "text"
      },
      "cell_type": "markdown",
      "source": [
        "# Tuples"
      ]
    },
    {
      "metadata": {
        "id": "CAZblq7oXY3s",
        "colab_type": "text"
      },
      "cell_type": "markdown",
      "source": [
        "Tuples are also objects in python that can hold data but you cannot replace values (for this reason, tuples are called immutable, whereas lists are known as mutable)."
      ]
    },
    {
      "metadata": {
        "id": "G95lu8xWXY90",
        "colab_type": "code",
        "colab": {
          "base_uri": "https://localhost:8080/",
          "height": 34
        },
        "outputId": "6350ad63-0f99-482f-ad6d-41b037e058e6"
      },
      "cell_type": "code",
      "source": [
        "# Creating a tuple\n",
        "tuple_x = (3.0, \"hello\")\n",
        "print (tuple_x)"
      ],
      "execution_count": 26,
      "outputs": [
        {
          "output_type": "stream",
          "text": [
            "(3.0, 'hello')\n"
          ],
          "name": "stdout"
        }
      ]
    },
    {
      "metadata": {
        "id": "kq23Bej1acAP",
        "colab_type": "code",
        "colab": {
          "base_uri": "https://localhost:8080/",
          "height": 34
        },
        "outputId": "9c763fff-9862-40ef-d045-b0cd9b6dce13"
      },
      "cell_type": "code",
      "source": [
        "# Adding values to a tuple\n",
        "tuple_x = tuple_x + (5.6,)\n",
        "print (tuple_x)"
      ],
      "execution_count": 27,
      "outputs": [
        {
          "output_type": "stream",
          "text": [
            "(3.0, 'hello', 5.6)\n"
          ],
          "name": "stdout"
        }
      ]
    },
    {
      "metadata": {
        "id": "vyTmOc6BXkge",
        "colab_type": "code",
        "colab": {
          "base_uri": "https://localhost:8080/",
          "height": 164
        },
        "outputId": "972c571e-c530-4826-f485-1d850383b12b"
      },
      "cell_type": "code",
      "source": [
        "# Trying to change a tuples value (you can't)\n",
        "tuple_x[1] = \"world\""
      ],
      "execution_count": 29,
      "outputs": [
        {
          "output_type": "error",
          "ename": "TypeError",
          "evalue": "ignored",
          "traceback": [
            "\u001b[0;31m---------------------------------------------------------------------------\u001b[0m",
            "\u001b[0;31mTypeError\u001b[0m                                 Traceback (most recent call last)",
            "\u001b[0;32m<ipython-input-29-86abc19d8025>\u001b[0m in \u001b[0;36m<module>\u001b[0;34m()\u001b[0m\n\u001b[0;32m----> 1\u001b[0;31m \u001b[0mtuple_x\u001b[0m\u001b[0;34m[\u001b[0m\u001b[0;36m1\u001b[0m\u001b[0;34m]\u001b[0m \u001b[0;34m=\u001b[0m \u001b[0;34m\"world\"\u001b[0m\u001b[0;34m\u001b[0m\u001b[0m\n\u001b[0m",
            "\u001b[0;31mTypeError\u001b[0m: 'tuple' object does not support item assignment"
          ]
        }
      ]
    },
    {
      "metadata": {
        "id": "UdlJHkwZV3Mz",
        "colab_type": "text"
      },
      "cell_type": "markdown",
      "source": [
        "# Dictionaries"
      ]
    },
    {
      "metadata": {
        "id": "azp3AoxYXS26",
        "colab_type": "text"
      },
      "cell_type": "markdown",
      "source": [
        "Dictionaries are python objects that hold key-value pairs. In the example dictionary below, the keys are the \"name\" and \"eye_color\" variables. They each have a value associated with them. A dictionary cannot have two of the same keys. "
      ]
    },
    {
      "metadata": {
        "id": "pXhNLbzpXXSk",
        "colab_type": "code",
        "colab": {
          "base_uri": "https://localhost:8080/",
          "height": 68
        },
        "outputId": "405c35a0-2791-42ac-fd94-59567f4b6800"
      },
      "cell_type": "code",
      "source": [
        "# Creating a dictionary\n",
        "goku = {\"name\": \"Goku\",\n",
        "        \"eye_color\": \"brown\"}\n",
        "print (goku)\n",
        "print (goku[\"name\"])\n",
        "print (goku[\"eye_color\"])\n"
      ],
      "execution_count": 8,
      "outputs": [
        {
          "output_type": "stream",
          "text": [
            "{'name': 'Goku', 'eye_color': 'brown'}\n",
            "Goku\n",
            "brown\n"
          ],
          "name": "stdout"
        }
      ]
    },
    {
      "metadata": {
        "id": "1HXtX8vQYjXa",
        "colab_type": "code",
        "colab": {
          "base_uri": "https://localhost:8080/",
          "height": 34
        },
        "outputId": "d0a6d036-dcc7-43bc-a099-2562d770be15"
      },
      "cell_type": "code",
      "source": [
        "# Changing the value for a key\n",
        "goku[\"eye_color\"] = \"green\"\n",
        "print (goku)"
      ],
      "execution_count": 9,
      "outputs": [
        {
          "output_type": "stream",
          "text": [
            "{'name': 'Goku', 'eye_color': 'green'}\n"
          ],
          "name": "stdout"
        }
      ]
    },
    {
      "metadata": {
        "id": "qn33iB0MY5dT",
        "colab_type": "code",
        "colab": {
          "base_uri": "https://localhost:8080/",
          "height": 34
        },
        "outputId": "76304793-cd3d-4b22-a2d0-847a9bfcf02c"
      },
      "cell_type": "code",
      "source": [
        "# Adding new key-value pairs\n",
        "goku[\"age\"] = 24\n",
        "print (goku)"
      ],
      "execution_count": 11,
      "outputs": [
        {
          "output_type": "stream",
          "text": [
            "{'name': 'Goku', 'eye_color': 'green', 'height': 72.0, 'age': 24}\n"
          ],
          "name": "stdout"
        }
      ]
    },
    {
      "metadata": {
        "id": "g9EYmzMKa9YV",
        "colab_type": "code",
        "colab": {
          "base_uri": "https://localhost:8080/",
          "height": 34
        },
        "outputId": "ffe8ec5f-09b3-45af-c880-812428f291a5"
      },
      "cell_type": "code",
      "source": [
        "# Length of a dictionary\n",
        "print (len(goku))å"
      ],
      "execution_count": 30,
      "outputs": [
        {
          "output_type": "stream",
          "text": [
            "4\n"
          ],
          "name": "stdout"
        }
      ]
    },
    {
      "metadata": {
        "id": "B-DInx_Xo2vJ",
        "colab_type": "text"
      },
      "cell_type": "markdown",
      "source": [
        "# If statements"
      ]
    },
    {
      "metadata": {
        "id": "ZG_ICGRGo4tY",
        "colab_type": "text"
      },
      "cell_type": "markdown",
      "source": [
        "You can use if statements to conditionally do something."
      ]
    },
    {
      "metadata": {
        "id": "uob9lQuKo4Pg",
        "colab_type": "code",
        "colab": {
          "base_uri": "https://localhost:8080/",
          "height": 34
        },
        "outputId": "8fb241ae-d1e1-4457-92e7-019ec3737b48"
      },
      "cell_type": "code",
      "source": [
        "# If statement\n",
        "x = 4\n",
        "if x < 1:\n",
        "    score = \"low\"\n",
        "elif x <= 4:\n",
        "    score = \"medium\"\n",
        "else:\n",
        "    score = \"high\"\n",
        "print (score)"
      ],
      "execution_count": 11,
      "outputs": [
        {
          "output_type": "stream",
          "text": [
            "medium\n"
          ],
          "name": "stdout"
        }
      ]
    },
    {
      "metadata": {
        "id": "vwsQaZqIpfJ3",
        "colab_type": "code",
        "colab": {
          "base_uri": "https://localhost:8080/",
          "height": 34
        },
        "outputId": "0ff2a53b-28e5-468c-9b20-75eee0bb528f"
      },
      "cell_type": "code",
      "source": [
        "# If statment with a boolean\n",
        "x = True\n",
        "if x:\n",
        "    print (\"it worked\")"
      ],
      "execution_count": 15,
      "outputs": [
        {
          "output_type": "stream",
          "text": [
            "it worked\n"
          ],
          "name": "stdout"
        }
      ]
    },
    {
      "metadata": {
        "id": "sJ7NPGEKV6Ik",
        "colab_type": "text"
      },
      "cell_type": "markdown",
      "source": [
        "# Loops"
      ]
    },
    {
      "metadata": {
        "id": "YRVxhVCkn0vc",
        "colab_type": "text"
      },
      "cell_type": "markdown",
      "source": [
        "You can use for or while loops in python to do something repeatedly until a condition is met."
      ]
    },
    {
      "metadata": {
        "id": "OB5PtyqAn8mj",
        "colab_type": "code",
        "colab": {
          "base_uri": "https://localhost:8080/",
          "height": 68
        },
        "outputId": "5bbd3474-486a-4652-c82c-f63372da1f61"
      },
      "cell_type": "code",
      "source": [
        "# For loop\n",
        "x = 1\n",
        "for i in range(3): # goes from i=0 to i=2\n",
        "    x += 1 # same as x = x + 1\n",
        "    print (\"i={0}, x={1}\".format(i, x)) # printing with multiple variables"
      ],
      "execution_count": 5,
      "outputs": [
        {
          "output_type": "stream",
          "text": [
            "i=0, x=2\n",
            "i=1, x=3\n",
            "i=2, x=4\n"
          ],
          "name": "stdout"
        }
      ]
    },
    {
      "metadata": {
        "id": "6XyhCrFeoGj4",
        "colab_type": "code",
        "colab": {
          "base_uri": "https://localhost:8080/",
          "height": 68
        },
        "outputId": "6004d886-596a-426e-c72f-8adde0a34189"
      },
      "cell_type": "code",
      "source": [
        "# Loop through items in a list\n",
        "x = 1\n",
        "for i in [0, 1, 2]:\n",
        "    x += 1\n",
        "    print (\"i={0}, x={1}\".format(i, x))"
      ],
      "execution_count": 7,
      "outputs": [
        {
          "output_type": "stream",
          "text": [
            "i=0, x=2\n",
            "i=1, x=3\n",
            "i=2, x=4\n"
          ],
          "name": "stdout"
        }
      ]
    },
    {
      "metadata": {
        "id": "5Tf2x4okp3fH",
        "colab_type": "code",
        "colab": {
          "base_uri": "https://localhost:8080/",
          "height": 68
        },
        "outputId": "3423016a-b8b5-479c-f979-8ab8253d1d04"
      },
      "cell_type": "code",
      "source": [
        "# While loop\n",
        "x = 3\n",
        "while x > 0:\n",
        "    x -= 1 # same as x = x - 1\n",
        "    print (x)"
      ],
      "execution_count": 17,
      "outputs": [
        {
          "output_type": "stream",
          "text": [
            "2\n",
            "1\n",
            "0\n"
          ],
          "name": "stdout"
        }
      ]
    },
    {
      "metadata": {
        "id": "gJw-EDO9WBL_",
        "colab_type": "text"
      },
      "cell_type": "markdown",
      "source": [
        "# Functions"
      ]
    },
    {
      "metadata": {
        "id": "hDIOUdWCqBwa",
        "colab_type": "text"
      },
      "cell_type": "markdown",
      "source": [
        "Functions are a way to modularize resuable pieces of code. "
      ]
    },
    {
      "metadata": {
        "id": "iin1ZXmMqA0y",
        "colab_type": "code",
        "colab": {
          "base_uri": "https://localhost:8080/",
          "height": 34
        },
        "outputId": "eaf42827-db58-4ec7-e038-7d2743e666cc"
      },
      "cell_type": "code",
      "source": [
        "# Create a function\n",
        "def add_two(x):\n",
        "    x += 2\n",
        "    return x\n",
        "\n",
        "# Use the function\n",
        "score = 0\n",
        "score = add_two(x=score)\n",
        "print (score)"
      ],
      "execution_count": 20,
      "outputs": [
        {
          "output_type": "stream",
          "text": [
            "2\n"
          ],
          "name": "stdout"
        }
      ]
    },
    {
      "metadata": {
        "id": "DC6x3DMrqlE3",
        "colab_type": "code",
        "colab": {
          "base_uri": "https://localhost:8080/",
          "height": 34
        },
        "outputId": "c9360480-1553-4358-a646-4ecf74064fff"
      },
      "cell_type": "code",
      "source": [
        "# Function with multiple inputs\n",
        "def join_name(first_name, last_name):\n",
        "    joined_name = first_name + \" \" + last_name\n",
        "    return joined_name\n",
        "\n",
        "# Use the function\n",
        "first_name = \"Goku\"\n",
        "last_name = \"Mohandas\"\n",
        "joined_name = join_name(first_name=first_name, last_name=last_name)\n",
        "print (joined_name)"
      ],
      "execution_count": 22,
      "outputs": [
        {
          "output_type": "stream",
          "text": [
            "Goku Mohandas\n"
          ],
          "name": "stdout"
        }
      ]
    },
    {
      "metadata": {
        "id": "lBLa1n54WEd2",
        "colab_type": "text"
      },
      "cell_type": "markdown",
      "source": [
        "# Classes"
      ]
    },
    {
      "metadata": {
        "id": "mGua8QnArAZh",
        "colab_type": "text"
      },
      "cell_type": "markdown",
      "source": [
        "Classes are a fundamental piece of object oriented Python programming."
      ]
    },
    {
      "metadata": {
        "id": "DXmPwI1frAAd",
        "colab_type": "code",
        "colab": {}
      },
      "cell_type": "code",
      "source": [
        "# Create the function\n",
        "class Pets(object):\n",
        "  \n",
        "    # Initialize the class\n",
        "    def __init__(self, species, color, name):\n",
        "        self.species = species\n",
        "        self.color = color\n",
        "        self.name = name\n",
        "\n",
        "    # For printing  \n",
        "    def __str__(self):\n",
        "        return \"{0} {1} named {2}.\".format(self.color, self.species, self.name)\n",
        "\n",
        "    # Example function\n",
        "    def change_name(self, new_name):\n",
        "        self.name = new_name"
      ],
      "execution_count": 0,
      "outputs": []
    },
    {
      "metadata": {
        "id": "ezQq_Fhhrqrv",
        "colab_type": "code",
        "colab": {
          "base_uri": "https://localhost:8080/",
          "height": 51
        },
        "outputId": "585493c2-1fcf-4b68-d4fb-d3f00c4c7433"
      },
      "cell_type": "code",
      "source": [
        "# Making an instance of a class\n",
        "my_shiba = Pets(species=\"dog\", color=\"orange\", name=\"Guiness\",)\n",
        "print (my_shiba)\n",
        "print (my_shiba.name)"
      ],
      "execution_count": 39,
      "outputs": [
        {
          "output_type": "stream",
          "text": [
            "orange dog named Guiness.\n",
            "Guiness\n"
          ],
          "name": "stdout"
        }
      ]
    },
    {
      "metadata": {
        "id": "qTinlRj1szc5",
        "colab_type": "code",
        "colab": {
          "base_uri": "https://localhost:8080/",
          "height": 51
        },
        "outputId": "1f9e75b8-e43a-484d-ea3e-c0123374382a"
      },
      "cell_type": "code",
      "source": [
        "# Using a class's function\n",
        "my_shiba.change_name(new_name=\"Charlie\")\n",
        "print (my_shiba)\n",
        "print (my_shiba.name)"
      ],
      "execution_count": 40,
      "outputs": [
        {
          "output_type": "stream",
          "text": [
            "orange dog named Charlie.\n",
            "Charlie\n"
          ],
          "name": "stdout"
        }
      ]
    },
    {
      "metadata": {
        "id": "kiWtd0aJtNtY",
        "colab_type": "text"
      },
      "cell_type": "markdown",
      "source": [
        "# Additional resources"
      ]
    },
    {
      "metadata": {
        "id": "cfLF4ktmtSC3",
        "colab_type": "text"
      },
      "cell_type": "markdown",
      "source": [
        "This was a very quick look at python and we'll be learning more in future lessons. If you want to learn more right now before diving into machine learning, check out this free course: [Free Python Course](https://www.codecademy.com/learn/learn-python)"
      ]
    }
  ]
}